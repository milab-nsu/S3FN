{
 "cells": [
  {
   "cell_type": "code",
   "execution_count": null,
   "metadata": {},
   "outputs": [],
   "source": [
    "from transformers import RobertaTokenizer, RobertaModel\n",
    "import torch\n",
    "from sklearn.metrics.pairwise import cosine_similarity\n",
    "import numpy as np"
   ]
  },
  {
   "cell_type": "code",
   "execution_count": null,
   "metadata": {},
   "outputs": [],
   "source": [
    "# Step 1: Load and preprocess text\n",
    "file_path = '<path_to_file>/Kiwi_VIS_Corpus.txt'\n",
    "\n",
    "with open(file_path, 'r') as file:\n",
    "    text = file.read()\n",
    "    \n",
    "# Clean text and standardize\n",
    "text = text.replace('-', '').replace('_', '').lower()"
   ]
  },
  {
   "cell_type": "code",
   "execution_count": null,
   "metadata": {},
   "outputs": [],
   "source": [
    "print(text)"
   ]
  },
  {
   "cell_type": "code",
   "execution_count": null,
   "metadata": {},
   "outputs": [],
   "source": [
    "# Step 2: Load RoBERTa model or BERT model\n",
    "# You can choose either 'bert-base-uncased' or 'roberta-large'\n",
    "tokenizer = RobertaTokenizer.from_pretrained('roberta-large')\n",
    "model = RobertaModel.from_pretrained('roberta-large')"
   ]
  },
  {
   "cell_type": "code",
   "execution_count": null,
   "metadata": {},
   "outputs": [],
   "source": [
    "# Step 3: Tokenize text with proper handling\n",
    "inputs = tokenizer(text, return_tensors='pt', \n",
    "                  truncation=True, \n",
    "                  padding=True,\n",
    "                  max_length=512)  # Ensure consistent length\n",
    "\n",
    "# Convert to tokens for verification\n",
    "input_ids = inputs['input_ids'][0]\n",
    "tokens = tokenizer.convert_ids_to_tokens(input_ids)\n",
    "\n",
    "# Print first 200 tokens to verify \"perfect\" exists\n",
    "print(\"Sample tokens:\", tokens[:200])"
   ]
  },
  {
   "cell_type": "code",
   "execution_count": null,
   "metadata": {},
   "outputs": [],
   "source": [
    "# Step 4: Get embeddings from last hidden state\n",
    "with torch.no_grad():\n",
    "    outputs = model(**inputs)\n",
    "embeddings = outputs.last_hidden_state  # Shape: [1, seq_len, 1024]"
   ]
  },
  {
   "cell_type": "code",
   "execution_count": null,
   "metadata": {},
   "outputs": [],
   "source": [
    "# Step 5: Improved embedding extraction with fallback\n",
    "words = [\"overripe\", \"ripe\", \"unripe\"]\n",
    "embeddings_dict = {}\n",
    "\n",
    "for word in words:\n",
    "    # Tokenize target word (handle subwords)\n",
    "    word_tokens = tokenizer.tokenize(word)\n",
    "    word_ids = tokenizer.convert_tokens_to_ids(word_tokens)\n",
    "    \n",
    "    # Find positions in input_ids\n",
    "    indices = []\n",
    "    for i in range(len(input_ids) - len(word_ids) + 1):\n",
    "        if all(input_ids[i+j] == word_ids[j] for j in range(len(word_ids))):\n",
    "            indices.extend(range(i, i+len(word_ids)))\n",
    "    \n",
    "    if indices:\n",
    "        # Average embeddings for multi-token words\n",
    "        word_embedding = embeddings[0, indices, :].mean(dim=0)\n",
    "    else:\n",
    "        # Fallback: embed word in isolation\n",
    "        print(f\"Word '{word}' not found in text - using standalone embedding\")\n",
    "        word_inputs = tokenizer(word, return_tensors='pt')\n",
    "        with torch.no_grad():\n",
    "            word_outputs = model(**word_inputs)\n",
    "        word_embedding = word_outputs.last_hidden_state.mean(dim=1).squeeze()\n",
    "    \n",
    "    embeddings_dict[word] = word_embedding\n",
    "\n",
    "# %%\n",
    "# Verification and analysis\n",
    "print(\"\\nEmbedding shapes:\")\n",
    "for word, emb in embeddings_dict.items():\n",
    "    print(f\"{word}: {emb.shape}\")"
   ]
  },
  {
   "cell_type": "code",
   "execution_count": null,
   "metadata": {},
   "outputs": [],
   "source": [
    "# Calculate similarity matrix\n",
    "similarities = cosine_similarity(\n",
    "    [embeddings_dict[\"overripe\"].numpy(), \n",
    "     embeddings_dict[\"perfect\"].numpy(),\n",
    "     embeddings_dict[\"unripe\"].numpy()]\n",
    ")"
   ]
  },
  {
   "cell_type": "code",
   "execution_count": null,
   "metadata": {},
   "outputs": [],
   "source": [
    "print(\"\\nCosine similarity matrix:\")\n",
    "print(\"       overripe  perfect  unripe\")\n",
    "for i, row in enumerate([\"overripe\", \"perfect\", \"unripe\"]):\n",
    "    print(f\"{row:8} {similarities[i][0]:.3f}    {similarities[i][1]:.3f}    {similarities[i][2]:.3f}\")\n"
   ]
  },
  {
   "cell_type": "code",
   "execution_count": null,
   "metadata": {},
   "outputs": [],
   "source": [
    "# Save embeddings\n",
    "np.save(\"Avocado_VIS_Embeddings_Roberta.npy\", \n",
    "        {k: v.numpy() for k, v in embeddings_dict.items()})"
   ]
  }
 ],
 "metadata": {
  "kernelspec": {
   "display_name": "Python 3",
   "language": "python",
   "name": "python3"
  },
  "language_info": {
   "codemirror_mode": {
    "name": "ipython",
    "version": 3
   },
   "file_extension": ".py",
   "mimetype": "text/x-python",
   "name": "python",
   "nbconvert_exporter": "python",
   "pygments_lexer": "ipython3",
   "version": "3.10.0"
  }
 },
 "nbformat": 4,
 "nbformat_minor": 2
}
