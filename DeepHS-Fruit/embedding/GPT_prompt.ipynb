{
 "cells": [
  {
   "cell_type": "code",
   "execution_count": null,
   "metadata": {},
   "outputs": [],
   "source": [
    "import openai"
   ]
  },
  {
   "cell_type": "code",
   "execution_count": null,
   "metadata": {},
   "outputs": [],
   "source": [
    "# Set your API key\n",
    "openai.api_key = 'API-KEY-HERE'\n",
    "\n",
    "# Define the labels\n",
    "labels = [\"Overripe\", \"Perfect\", \"Unripe\"]\n",
    "\n",
    "# Number of paragraphs per label\n",
    "paragraphs_per_label = 10"
   ]
  },
  {
   "cell_type": "code",
   "execution_count": null,
   "metadata": {},
   "outputs": [],
   "source": [
    "# Function to generate factual and comparative paragraphs\n",
    "def generate_paragraphs(labels, num_paragraphs):\n",
    "    \n",
    "    results = {}\n",
    "    \n",
    "    for label in labels:\n",
    "        \n",
    "        paragraphs = []\n",
    "        \n",
    "        for _ in range(num_paragraphs):\n",
    "            \n",
    "            response = openai.ChatCompletion.create(\n",
    "                \n",
    "                model = \"gpt-4\",\n",
    "                \n",
    "                messages = [\n",
    "                    {\n",
    "                        \"role\": \"system\",\n",
    "                        \"content\": \"You are an expert researcher and writer specializing in hyperspectral analysis of agricultural products. Provide factual, precise, and comparative insights focused on spectral behavior.\",\n",
    "                        },\n",
    "                    {\n",
    "                        \"role\": \"user\",\n",
    "                        \"content\": (\n",
    "                            f\"Provide a detailed, fact-based paragraph about {label} kiwis (Actinidia deliciosa and Actinidia chinensis varieties), emphasizing their unique spectral characteristics. \"\n",
    "                            f\"Focus on their spectral signatures in the visible range (VIS: 380-740 nm), including key absorption features (e.g., chlorophyll degradation during post-harvest ripening) and reflectance peaks. \"\n",
    "                            f\"Compare how hyperspectral imaging captures spectral variations linked to ripeness stages, material composition (e.g., flesh firmness, inhibitor-induced delayed ripening), and chemical properties. \"\n",
    "                            f\"Explain how subtle spectral anomalies aid in material identification and contrast these with traditional methods like firmness testing. \"\n",
    "                            f\"Link physical properties (e.g. SSC (soluble solid content), texture changes) to spectral behaviors and their agricultural significance.\"\n",
    "                            ),\n",
    "                        },\n",
    "                    ],\n",
    "                \n",
    "                max_tokens = 400\n",
    "            )\n",
    "            \n",
    "            # Extract the generated content\n",
    "            paragraph = response['choices'][0]['message']['content']\n",
    "            paragraphs.append(paragraph)\n",
    "            \n",
    "        results[label] = paragraphs\n",
    "    \n",
    "    return results"
   ]
  },
  {
   "cell_type": "code",
   "execution_count": null,
   "metadata": {},
   "outputs": [],
   "source": [
    "# Generate paragraphs for each label\n",
    "print(\"Generating paragraphs...\")\n",
    "\n",
    "generated_paragraphs = generate_paragraphs(labels, paragraphs_per_label)\n",
    "\n",
    "# Save results to a text file\n",
    "output_file = \"Kiwi_VIS_Corpus.txt\"\n",
    "\n",
    "with open(output_file, \"w\") as file:\n",
    "    \n",
    "    for label, paragraphs in generated_paragraphs.items():\n",
    "        \n",
    "        file.write(f\"{label}\\n\")\n",
    "        \n",
    "        for i, paragraph in enumerate(paragraphs, 1):\n",
    "            file.write(f\"{i}. {paragraph}\\n\\n\")\n",
    "            \n",
    "print(f\"Results saved to {output_file}\")\n",
    "\n",
    "print(\"Paragraph generation complete.\")"
   ]
  }
 ],
 "metadata": {
  "kernelspec": {
   "display_name": "Python 3",
   "language": "python",
   "name": "python3"
  },
  "language_info": {
   "codemirror_mode": {
    "name": "ipython",
    "version": 3
   },
   "file_extension": ".py",
   "mimetype": "text/x-python",
   "name": "python",
   "nbconvert_exporter": "python",
   "pygments_lexer": "ipython3",
   "version": "3.10.0"
  }
 },
 "nbformat": 4,
 "nbformat_minor": 2
}
