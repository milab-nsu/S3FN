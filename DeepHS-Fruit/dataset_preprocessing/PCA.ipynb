{
 "cells": [
  {
   "cell_type": "code",
   "execution_count": 1,
   "metadata": {},
   "outputs": [],
   "source": [
    "import numpy as np\n",
    "import matplotlib.pyplot as plt\n",
    "from sklearn.decomposition import PCA"
   ]
  },
  {
   "cell_type": "code",
   "execution_count": null,
   "metadata": {},
   "outputs": [],
   "source": [
    "# Load training data and labels\n",
    "data = np.load(r'<path_to_file>/Kiwi_Ripeness_VIS_train.npy', allow_pickle=True)\n",
    "labels = np.load(r'<path_to_file>/Kiwi_Ripeness_VIS_train_labels.npy', allow_pickle=True)\n",
    "\n",
    "# Check shapes\n",
    "data.shape, labels.shape"
   ]
  },
  {
   "cell_type": "code",
   "execution_count": 3,
   "metadata": {},
   "outputs": [],
   "source": [
    "mean = data.mean(axis=(0, 1, 2), keepdims=True)\n",
    "std_dev = data.std(axis=(0, 1, 2), keepdims=True)"
   ]
  },
  {
   "cell_type": "code",
   "execution_count": null,
   "metadata": {},
   "outputs": [],
   "source": [
    "# Save mean and standard deviation\n",
    "np.save(r'<path_to_save>/Kiwi_VIS_mean.npy', mean)\n",
    "np.save(r'<path_to_save>/Kiwi_VIS_std.npy', std_dev)"
   ]
  },
  {
   "cell_type": "code",
   "execution_count": 5,
   "metadata": {},
   "outputs": [],
   "source": [
    "# Z-score normalization\n",
    "data = (data - mean) / std_dev\n",
    "\n",
    "print(\"Dataset shape:\", data.shape)"
   ]
  },
  {
   "cell_type": "code",
   "execution_count": 6,
   "metadata": {},
   "outputs": [],
   "source": [
    "# PCA START\n",
    "hsi_image_train = data\n",
    "\n",
    "# Reshape\n",
    "hsi_reshaped_train = hsi_image_train.reshape(-1, 224)"
   ]
  },
  {
   "cell_type": "code",
   "execution_count": 7,
   "metadata": {},
   "outputs": [],
   "source": [
    "# Apply PCA\n",
    "pca = PCA()\n",
    "hsi_train_pca = pca.fit_transform(hsi_reshaped_train)\n",
    "\n",
    "explained_variance = pca.explained_variance_ratio_\n",
    "cumulative_explained_variance = np.cumsum(explained_variance)"
   ]
  },
  {
   "cell_type": "code",
   "execution_count": 8,
   "metadata": {},
   "outputs": [],
   "source": [
    "plt.figure(figsize=(5, 5))\n",
    "plt.plot(range(1, len(cumulative_explained_variance) + 1), cumulative_explained_variance, marker='o', linestyle='--')\n",
    "plt.xlabel('Number of Dimensions')\n",
    "plt.ylabel('Total Variance Retained')\n",
    "plt.title('Variance Retained vs No. of Dimensions')\n",
    "plt.grid()\n",
    "plt.show()"
   ]
  },
  {
   "cell_type": "code",
   "execution_count": 9,
   "metadata": {},
   "outputs": [],
   "source": [
    "# No. of Dimensions that retains 99% variance:\n",
    "optimal_components = np.argmax(cumulative_explained_variance >= 0.999) + 1 \n",
    "print(f\"Number of Dimensions to retain 99% variance: {optimal_components}\")\n",
    "\n",
    "# Apply PCA with optimal components\n",
    "pca = PCA(n_components=optimal_components)\n",
    "X_train_PCA = pca.fit_transform(hsi_reshaped_train)\n",
    "\n",
    "X_train_PCA.shape"
   ]
  },
  {
   "cell_type": "code",
   "execution_count": 11,
   "metadata": {},
   "outputs": [],
   "source": [
    "# Save PCA components and mean\n",
    "np.save('', pca.components_)\n",
    "np.save('', pca.mean_)"
   ]
  },
  {
   "cell_type": "code",
   "execution_count": 12,
   "metadata": {},
   "outputs": [],
   "source": [
    "# Reshape back to the spatial dimensions\n",
    "data_train = X_train_PCA.reshape(1390, 32, 32, optimal_components)\n",
    "\n",
    "data_train.shape"
   ]
  },
  {
   "cell_type": "code",
   "execution_count": 13,
   "metadata": {},
   "outputs": [],
   "source": [
    "np.save('', data_train)"
   ]
  },
  {
   "cell_type": "code",
   "execution_count": null,
   "metadata": {},
   "outputs": [],
   "source": [
    "# LOAD PCA DATA\n",
    "data_train = np.load('')\n",
    "train_labels = np.load('')\n",
    "\n",
    "print(data_train.shape, train_labels.shape)"
   ]
  },
  {
   "cell_type": "markdown",
   "metadata": {},
   "source": [
    "APPLY PCA TO TEST and val"
   ]
  },
  {
   "cell_type": "code",
   "execution_count": null,
   "metadata": {},
   "outputs": [],
   "source": [
    "# Load test data\n",
    "test_data = np.load(r'<path_to_file>/Kiwi_Ripeness_VIS_test.npy', allow_pickle=True)\n",
    "\n",
    "# Load training normalization parameters\n",
    "train_mean = np.load(r'<path_to_file>/Kiwi_VIS_mean.npy')\n",
    "train_std = np.load(r'<path_to_file>/Kiwi_VIS_std.npy')\n",
    "\n",
    "# Load PCA parameters from training\n",
    "pca_components = np.load(r'<path_to_file>/Kiwi_VIS_pca_comp.npy')\n",
    "pca_mean = np.load(r'<path_to_file>/Kiwi_VIS_pca_mean.npy')"
   ]
  },
  {
   "cell_type": "code",
   "execution_count": 22,
   "metadata": {},
   "outputs": [],
   "source": [
    "# Normalize test data using TRAINING'S mean and std\n",
    "test_data_normalized = (test_data - train_mean) / train_std"
   ]
  },
  {
   "cell_type": "code",
   "execution_count": 23,
   "metadata": {},
   "outputs": [],
   "source": [
    "# Reshape test data to 2D\n",
    "num_test_samples = test_data.shape[0]\n",
    "hsi_reshaped_test = test_data_normalized.reshape(num_test_samples * 32 * 32, 224)"
   ]
  },
  {
   "cell_type": "code",
   "execution_count": 24,
   "metadata": {},
   "outputs": [],
   "source": [
    "# Apply PCA transformation\n",
    "hsi_test_pca = (hsi_reshaped_test - pca_mean) @ pca_components.T\n",
    "\n",
    "# Reshape back to 4D (preserve spatial dimensions)\n",
    "optimal_components = pca_components.shape[0]  # Get from component shape\n",
    "test_data_pca = hsi_test_pca.reshape(num_test_samples, 32, 32, optimal_components)"
   ]
  },
  {
   "cell_type": "code",
   "execution_count": null,
   "metadata": {},
   "outputs": [],
   "source": [
    "# Save transformed test data\n",
    "np.save(r'<path_to_save>/Kiwi_VIS_PCA_test.npy', test_data_pca)"
   ]
  },
  {
   "cell_type": "code",
   "execution_count": 26,
   "metadata": {},
   "outputs": [],
   "source": [
    "test_data_pca.shape"
   ]
  }
 ],
 "metadata": {
  "kernelspec": {
   "display_name": "Python 3",
   "language": "python",
   "name": "python3"
  },
  "language_info": {
   "codemirror_mode": {
    "name": "ipython",
    "version": 3
   },
   "file_extension": ".py",
   "mimetype": "text/x-python",
   "name": "python",
   "nbconvert_exporter": "python",
   "pygments_lexer": "ipython3",
   "version": "3.10.0"
  }
 },
 "nbformat": 4,
 "nbformat_minor": 2
}
