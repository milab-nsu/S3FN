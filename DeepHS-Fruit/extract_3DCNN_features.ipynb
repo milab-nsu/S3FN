{
 "cells": [
  {
   "cell_type": "code",
   "execution_count": null,
   "metadata": {},
   "outputs": [],
   "source": [
    "import numpy as np\n",
    "import tensorflow as tf\n",
    "from tensorflow.keras.models import load_model\n",
    "from tensorflow.keras import Model\n",
    "from sklearn.preprocessing import LabelEncoder"
   ]
  },
  {
   "cell_type": "code",
   "execution_count": null,
   "metadata": {},
   "outputs": [],
   "source": [
    "config = tf.compat.v1.ConfigProto(gpu_options = tf.compat.v1.GPUOptions(per_process_gpu_memory_fraction=1))\n",
    "config.gpu_options.allow_growth = True\n",
    "session = tf.compat.v1.Session(config=config)\n",
    "tf.compat.v1.keras.backend.set_session(session)\n",
    "physical_devices = tf.config.experimental.list_physical_devices('GPU')\n",
    "\n",
    "print(\"Num GPUs Available: \", len(physical_devices))"
   ]
  },
  {
   "cell_type": "code",
   "execution_count": null,
   "metadata": {},
   "outputs": [],
   "source": [
    "# Load PCA data and labels\n",
    "train_data = np.load('data_train_PCA.npy')  # Assuming shape (n_samples, 32 * 32 * 199)\n",
    "test_data = np.load('data_test_PCA.npy')\n",
    "\n",
    "train_labels = np.load('train_labels.npy', allow_pickle=True)  # Labels in integer format\n",
    "test_labels = np.load('test_labels.npy', allow_pickle=True)\n",
    "\n",
    "print(train_data.shape, test_data.shape, train_labels.shape, test_labels.shape )"
   ]
  },
  {
   "cell_type": "code",
   "execution_count": null,
   "metadata": {},
   "outputs": [],
   "source": [
    "le= LabelEncoder()\n",
    "train_labels = le.fit_transform(train_labels)\n",
    "\n",
    "le2= LabelEncoder()\n",
    "test_labels= le2.fit_transform(test_labels)"
   ]
  },
  {
   "cell_type": "code",
   "execution_count": null,
   "metadata": {},
   "outputs": [],
   "source": [
    "# Load pretrained CNN model\n",
    "model = load_model(\"best_model_blueberry_new.h5\")\n",
    "\n",
    "model.summary()"
   ]
  },
  {
   "cell_type": "code",
   "execution_count": null,
   "metadata": {},
   "outputs": [],
   "source": [
    "# Extract the fourth-last layer by slicing the model\n",
    "layer_name = model.layers[-4].name  # Change based on your model's architecture\n",
    "intermediate_model = Model(inputs=model.input, outputs=model.get_layer(layer_name).output)\n",
    "\n",
    "# Pass the train and test data through the model\n",
    "train_features = intermediate_model.predict(train_data, batch_size=8)\n",
    "test_features = intermediate_model.predict(test_data, batch_size=8)"
   ]
  },
  {
   "cell_type": "code",
   "execution_count": null,
   "metadata": {},
   "outputs": [],
   "source": [
    "# Save features for reuse\n",
    "np.save('train_features_new.npy', train_features)\n",
    "np.save('test_features_new.npy', test_features)"
   ]
  }
 ],
 "metadata": {
  "kernelspec": {
   "display_name": "Python 3",
   "language": "python",
   "name": "python3"
  },
  "language_info": {
   "name": "python",
   "version": "3.10.0"
  }
 },
 "nbformat": 4,
 "nbformat_minor": 2
}
