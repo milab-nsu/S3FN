{
 "cells": [
  {
   "cell_type": "code",
   "execution_count": null,
   "metadata": {},
   "outputs": [],
   "source": [
    "import tensorflow as tf\n",
    "from tensorflow.keras import layers, models\n",
    "from tensorflow.keras.losses import SparseCategoricalCrossentropy\n",
    "import numpy as np\n",
    "from sklearn.preprocessing import LabelEncoder\n",
    "from sklearn.metrics import classification_report, confusion_matrix\n",
    "import matplotlib.pyplot as plt\n",
    "import seaborn as sns\n",
    "from sklearn.decomposition import PCA\n",
    "from tensorflow.keras import models, layers, regularizers"
   ]
  },
  {
   "cell_type": "code",
   "execution_count": null,
   "metadata": {},
   "outputs": [],
   "source": [
    "config = tf.compat.v1.ConfigProto(gpu_options = tf.compat.v1.GPUOptions(per_process_gpu_memory_fraction=0.8))\n",
    "config.gpu_options.allow_growth = True\n",
    "session = tf.compat.v1.Session(config=config)\n",
    "tf.compat.v1.keras.backend.set_session(session)\n",
    "physical_devices = tf.config.experimental.list_physical_devices('GPU')\n",
    "\n",
    "print(\"Num GPUs Available: \", len(physical_devices))"
   ]
  },
  {
   "cell_type": "code",
   "execution_count": null,
   "metadata": {},
   "outputs": [],
   "source": [
    "data_train = np.load('Wood_train.npy', allow_pickle= True)\n",
    "data_test = np.load('Wood_test.npy', allow_pickle= True)\n",
    "\n",
    "train_labels = np.load('Wood_train_labels.npy', allow_pickle= True)\n",
    "test_labels = np.load('Wood_test_labels.npy', allow_pickle= True)\n",
    "\n",
    "data_train.shape, train_labels.shape, data_test.shape, test_labels.shape"
   ]
  },
  {
   "cell_type": "code",
   "execution_count": null,
   "metadata": {},
   "outputs": [],
   "source": [
    "mean = data_train.mean(axis=(0, 1, 2), keepdims=True)\n",
    "std_dev = data_train.std(axis=(0, 1, 2), keepdims=True)\n",
    "\n",
    "# Z-score normalization\n",
    "data_train = (data_train - mean) / std_dev\n",
    "\n",
    "data_test = (data_test - mean) / std_dev\n",
    "\n",
    "print(\"Train Shape:\", data_train.shape)\n",
    "print(\"Test Shape:\", data_test.shape)"
   ]
  },
  {
   "cell_type": "code",
   "execution_count": null,
   "metadata": {},
   "outputs": [],
   "source": [
    "hsi_image_train = data_train\n",
    "hsi_image_test = data_test\n",
    "\n",
    "hsi_reshaped_train = hsi_image_train.reshape(-1, 320)\n",
    "hsi_reshaped_test = hsi_image_test.reshape(-1, 320)\n",
    "\n",
    "hsi_reshaped_train.shape, hsi_reshaped_test.shape"
   ]
  },
  {
   "cell_type": "code",
   "execution_count": null,
   "metadata": {},
   "outputs": [],
   "source": [
    "# Apply PCA\n",
    "pca = PCA()\n",
    "hsi_train_pca = pca.fit_transform(hsi_reshaped_train)\n",
    "\n",
    "explained_variance = pca.explained_variance_ratio_\n",
    "cumulative_explained_variance = np.cumsum(explained_variance)"
   ]
  },
  {
   "cell_type": "code",
   "execution_count": null,
   "metadata": {},
   "outputs": [],
   "source": [
    "plt.figure(figsize=(5, 5))\n",
    "plt.plot(range(1, len(cumulative_explained_variance) + 1), cumulative_explained_variance, marker='o', linestyle='--')\n",
    "plt.xlabel('Number of Dimensions')\n",
    "plt.ylabel('Total Variance Retained')\n",
    "plt.title('Variance Retained vs No. of Dimensions')\n",
    "plt.grid()\n",
    "plt.show()"
   ]
  },
  {
   "cell_type": "code",
   "execution_count": null,
   "metadata": {},
   "outputs": [],
   "source": [
    "#No. of Dimensions that retains 95% varinace:\n",
    "optimal_components = np.argmax(cumulative_explained_variance >= 0.99) + 1 \n",
    "print(f\"Number of Dimensions to retain 99% variance: {optimal_components}\")\n",
    "\n",
    "pca = PCA(n_components=optimal_components)\n",
    "\n",
    "X_train_PCA = pca.fit_transform(hsi_reshaped_train)\n",
    "X_test_pca = pca.transform(hsi_reshaped_test)\n",
    "\n",
    "X_train_PCA.shape, X_test_pca.shape"
   ]
  },
  {
   "cell_type": "code",
   "execution_count": null,
   "metadata": {},
   "outputs": [],
   "source": [
    "# Reshape back to the spatial dimensions\n",
    "data_train = X_train_PCA.reshape(264, 32, 32, optimal_components)\n",
    "data_test = X_test_pca.reshape(132, 32, 32, optimal_components)\n",
    "\n",
    "data_train.shape, data_test.shape"
   ]
  },
  {
   "cell_type": "code",
   "execution_count": null,
   "metadata": {},
   "outputs": [],
   "source": [
    "# Add channel dimension to data\n",
    "data_train = data_train[..., np.newaxis]\n",
    "data_test = data_test[..., np.newaxis]\n",
    "\n",
    "data_train.shape, data_test.shape"
   ]
  },
  {
   "cell_type": "code",
   "execution_count": null,
   "metadata": {},
   "outputs": [],
   "source": [
    "le= LabelEncoder()\n",
    "y_train = le.fit_transform(train_labels)\n",
    "\n",
    "le2= LabelEncoder()\n",
    "y_test= le2.fit_transform(test_labels)"
   ]
  },
  {
   "cell_type": "code",
   "execution_count": null,
   "metadata": {},
   "outputs": [],
   "source": [
    "def augment_data(sample, label):\n",
    "    \n",
    "    # Random flip along different axes\n",
    "    sample = tf.image.random_flip_left_right(sample)\n",
    "    sample = tf.image.random_flip_up_down(sample)\n",
    "\n",
    "    # Random rotation\n",
    "    sample = tf.image.rot90(sample, k=np.random.randint(1, 4))  # k=1 to 3 random rotations of 90°\n",
    "\n",
    "    # Random intensity scaling (brightness variation)\n",
    "    sample = sample * tf.random.uniform([], 0.9, 1.1)  # Random scale between 0.9 and 1.1\n",
    "    \n",
    "    return sample, label"
   ]
  },
  {
   "cell_type": "code",
   "execution_count": null,
   "metadata": {},
   "outputs": [],
   "source": [
    "# Convert data to TensorFlow dataset\n",
    "\n",
    "train_dataset = tf.data.Dataset.from_tensor_slices((data_train, y_train))\n",
    "test_dataset = tf.data.Dataset.from_tensor_slices((data_test, y_test))\n",
    "\n",
    "# Apply augmentation only on training data\n",
    "train_dataset = train_dataset.map(augment_data, num_parallel_calls=tf.data.AUTOTUNE)\n",
    "\n",
    "# Shuffle, batch, and prefetch\n",
    "batch_size = 8\n",
    "\n",
    "train_dataset = train_dataset.shuffle(buffer_size=100).batch(batch_size).prefetch(tf.data.AUTOTUNE)\n",
    "test_dataset = test_dataset.batch(batch_size).prefetch(tf.data.AUTOTUNE)"
   ]
  },
  {
   "cell_type": "code",
   "execution_count": null,
   "metadata": {},
   "outputs": [],
   "source": [
    "tf.random.set_seed(1234)\n",
    "\n",
    "input_shape = (32, 32, 199, 1)\n",
    "\n",
    "model = models.Sequential([\n",
    "    \n",
    "    \n",
    "    #1st Conv Layer\n",
    "    layers.Conv3D(32, kernel_size=(3, 3, 3), strides=(1, 1, 1), activation='relu',\n",
    "                  kernel_regularizer=regularizers.l2(0.01), input_shape=input_shape),\n",
    "    #layers.BatchNormalization(),\n",
    "    layers.AveragePooling3D(pool_size=(2, 2, 2)),\n",
    "    #layers.Dropout(0.3),  # Dropout with a rate of 0.3\n",
    "     \n",
    "     \n",
    "     \n",
    "    #2nd Conv Layer\n",
    "    layers.Conv3D(64, kernel_size=(3, 3, 3), strides=(1, 1, 1), activation='relu',\n",
    "                  kernel_regularizer=regularizers.l2(0.001)),\n",
    "    #layers.BatchNormalization(),\n",
    "    \n",
    "    \n",
    "    \n",
    "    #3rd Conv Layer\n",
    "    layers.Conv3D(128, kernel_size=(3, 3, 3), strides=(1, 1, 1), activation='relu',\n",
    "                  kernel_regularizer=regularizers.l2(0.0001)),\n",
    "    #layers.BatchNormalization(),\n",
    "    layers.AveragePooling3D(pool_size=(2, 2, 2)),\n",
    "    #layers.Dropout(0.3),  # Dropout with a rate of 0.3\n",
    "\n",
    "\n",
    "    layers.Flatten(),\n",
    "    \n",
    "    \n",
    "    #1st FC layer\n",
    "    layers.Dense(128, activation='relu', kernel_regularizer=regularizers.l2(0.001)),\n",
    "    layers.Dropout(0.5),  # Dropout with a rate of 0.5\n",
    "    #layers.BatchNormalization(),\n",
    "    \n",
    "    \n",
    "    \n",
    "    #2nd FC layer\n",
    "    layers.Dense(64, activation='relu', kernel_regularizer=regularizers.l2(0.0001)),\n",
    "    \n",
    "    \n",
    "    layers.Dense(2, activation='sigmoid')\n",
    "])\n",
    "\n",
    "model.summary()"
   ]
  },
  {
   "cell_type": "code",
   "execution_count": null,
   "metadata": {},
   "outputs": [],
   "source": [
    "model.compile(optimizer='adam', loss='sparse_categorical_crossentropy', metrics=['accuracy'])\n",
    "\n",
    "# Define the callbacks\n",
    "checkpoint_callback = tf.keras.callbacks.ModelCheckpoint(\n",
    "    filepath = 'best_model_test.h5',    \n",
    "    monitor = 'accuracy',          \n",
    "    save_best_only = True,              \n",
    "    save_weights_only = False,             \n",
    "    mode = 'max',                          \n",
    "    verbose = 1\n",
    ")\n",
    "\n",
    "early_stopping_callback = tf.keras.callbacks.EarlyStopping(\n",
    "    monitor = 'loss',\n",
    "    patience = 15,\n",
    "    restore_best_weights = True\n",
    ")\n",
    "\n",
    "# Train the model with the callbacks\n",
    "history = model.fit(\n",
    "    train_dataset,\n",
    "    epochs = 100,\n",
    "    validation_data = test_dataset,\n",
    "    callbacks = [checkpoint_callback, early_stopping_callback]\n",
    ")"
   ]
  },
  {
   "cell_type": "code",
   "execution_count": null,
   "metadata": {},
   "outputs": [],
   "source": [
    "# Plot training & validation loss\n",
    "plt.figure(figsize=(12, 4))\n",
    "plt.subplot(1, 2, 1)\n",
    "plt.plot(history.history['loss'], label='Train Loss')\n",
    "plt.plot(history.history['val_loss'], label='Validation Loss')\n",
    "plt.title('Loss over Epochs')\n",
    "plt.xlabel('Epochs')\n",
    "plt.ylabel('Loss')\n",
    "plt.legend()\n",
    "\n",
    "# Plot training & validation accuracy\n",
    "plt.subplot(1, 2, 2)\n",
    "plt.plot(history.history['accuracy'], label='Train Accuracy')\n",
    "plt.plot(history.history['val_accuracy'], label='Validation Accuracy')\n",
    "plt.title('Accuracy over Epochs')\n",
    "plt.xlabel('Epochs')\n",
    "plt.ylabel('Accuracy')\n",
    "plt.legend()\n",
    "\n",
    "plt.show()"
   ]
  },
  {
   "cell_type": "code",
   "execution_count": null,
   "metadata": {},
   "outputs": [],
   "source": [
    "# Get true labels and predictions\n",
    "test_labels = np.concatenate([y for x, y in test_dataset], axis=0)\n",
    "predictions = np.argmax(model.predict(test_dataset), axis=-1)"
   ]
  },
  {
   "cell_type": "code",
   "execution_count": null,
   "metadata": {},
   "outputs": [],
   "source": [
    "# Classification report\n",
    "print(\"Classification Report:\")\n",
    "print(classification_report(test_labels, predictions))"
   ]
  },
  {
   "cell_type": "code",
   "execution_count": null,
   "metadata": {},
   "outputs": [],
   "source": [
    "# Confusion matrix\n",
    "conf_matrix = confusion_matrix(test_labels, predictions)\n",
    "\n",
    "plt.figure(figsize=(8, 6))\n",
    "sns.heatmap(conf_matrix, annot=True, fmt=\"d\", cmap=\"Blues\", xticklabels=[str(i) for i in range(2)], yticklabels=[str(i) for i in range(2)])\n",
    "\n",
    "plt.title(\"Confusion Matrix\")\n",
    "plt.xlabel(\"Predicted Label\")\n",
    "plt.ylabel(\"True Label\")\n",
    "\n",
    "plt.show()"
   ]
  }
 ],
 "metadata": {
  "kernelspec": {
   "display_name": "Python 3",
   "language": "python",
   "name": "python3"
  },
  "language_info": {
   "codemirror_mode": {
    "name": "ipython",
    "version": 3
   },
   "file_extension": ".py",
   "mimetype": "text/x-python",
   "name": "python",
   "nbconvert_exporter": "python",
   "pygments_lexer": "ipython3",
   "version": "3.10.0"
  }
 },
 "nbformat": 4,
 "nbformat_minor": 2
}
