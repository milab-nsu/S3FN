{
 "cells": [
  {
   "cell_type": "code",
   "execution_count": null,
   "metadata": {},
   "outputs": [],
   "source": [
    "import os\n",
    "import numpy as np\n",
    "import shutil"
   ]
  },
  {
   "cell_type": "code",
   "execution_count": null,
   "metadata": {},
   "outputs": [],
   "source": [
    "#Removing cubes that were in the masked areas\n",
    "def process_directory(input_dir, output_dir):\n",
    "    \n",
    "    # Create the output directory if it doesn't exist\n",
    "    if not os.path.exists(output_dir):\n",
    "        \n",
    "        os.makedirs(output_dir)\n",
    "    \n",
    "    # Walk through the input directory\n",
    "    for root, dirs, files in os.walk(input_dir):\n",
    "        \n",
    "        # Create corresponding directory in the output folder\n",
    "        relative_path = os.path.relpath(root, input_dir)\n",
    "        output_path = os.path.join(output_dir, relative_path)\n",
    "        \n",
    "        if not os.path.exists(output_path):\n",
    "            \n",
    "            os.makedirs(output_path)\n",
    "        \n",
    "        for file in files:\n",
    "            \n",
    "            if file.endswith('.npy'):\n",
    "                \n",
    "                file_path = os.path.join(root, file)\n",
    "                \n",
    "                # Load the .npy file\n",
    "                data = np.load(file_path)\n",
    "                # Check if the array contains only zeros\n",
    "                \n",
    "                if not np.all(data == 0):\n",
    "                    # If not all zeros, copy the file\n",
    "                    shutil.copy(file_path, output_path)\n",
    "\n",
    "# Input and output directories\n",
    "input_directory = '<path_to_input_directory>'\n",
    "output_directory = '<path_to_output_directory>'\n",
    "\n",
    "# Run the function\n",
    "process_directory(input_directory, output_directory)"
   ]
  },
  {
   "cell_type": "code",
   "execution_count": null,
   "metadata": {},
   "outputs": [],
   "source": [
    "# Path to the main directory containing subdirectories with labeled .npy files\n",
    "main_dir = '<path_to_directory>'\n",
    "\n",
    "# Lists to store images and labels\n",
    "images = []\n",
    "labels = []\n",
    "\n",
    "# Loop through each subdirectory in the main directory\n",
    "for folder_name in os.listdir(main_dir):\n",
    "    \n",
    "    folder_path = os.path.join(main_dir, folder_name)\n",
    "    \n",
    "    # Check if the path is a directory\n",
    "    if os.path.isdir(folder_path):\n",
    "        \n",
    "        # Process each .npy file in the subdirectory\n",
    "        for file_name in os.listdir(folder_path):\n",
    "            \n",
    "            if file_name.endswith('.npy'):\n",
    "                \n",
    "                # Load the image\n",
    "                file_path = os.path.join(folder_path, file_name)\n",
    "                image = np.load(file_path)\n",
    "                \n",
    "                # Append the image and label\n",
    "                images.append(image)\n",
    "                labels.append(folder_name)  # Folder name as the label\n",
    "\n",
    "\n",
    "# Convert lists to numpy arrays\n",
    "images_array = np.array(images)\n",
    "labels_array = np.array(labels)\n",
    "\n",
    "# Save the combined images and labels as .npy files\n",
    "np.save('.npy', images_array)\n",
    "np.save('.npy', labels_array)\n",
    "\n",
    "print(\"Files saved successfully!\")"
   ]
  },
  {
   "cell_type": "code",
   "execution_count": null,
   "metadata": {},
   "outputs": [],
   "source": [
    "dataset = np.load('.npy')\n",
    "labels = np.load('.npy')\n",
    "\n",
    "dataset.shape, labels.shape"
   ]
  },
  {
   "cell_type": "code",
   "execution_count": null,
   "metadata": {},
   "outputs": [],
   "source": [
    "print(labels)"
   ]
  }
 ],
 "metadata": {
  "kernelspec": {
   "display_name": "Python 3",
   "language": "python",
   "name": "python3"
  },
  "language_info": {
   "codemirror_mode": {
    "name": "ipython",
    "version": 3
   },
   "file_extension": ".py",
   "mimetype": "text/x-python",
   "name": "python",
   "nbconvert_exporter": "python",
   "pygments_lexer": "ipython3",
   "version": "3.10.0"
  }
 },
 "nbformat": 4,
 "nbformat_minor": 2
}
