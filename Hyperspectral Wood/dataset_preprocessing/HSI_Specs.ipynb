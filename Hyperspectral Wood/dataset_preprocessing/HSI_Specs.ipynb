{
 "cells": [
  {
   "cell_type": "code",
   "execution_count": null,
   "metadata": {},
   "outputs": [],
   "source": [
    "import numpy as np"
   ]
  },
  {
   "cell_type": "code",
   "execution_count": null,
   "metadata": {},
   "outputs": [],
   "source": [
    "# Load the hyperspectral data\n",
    "file_path = '<path_to_file>'\n",
    "data = np.load(file_path, allow_pickle=True)\n",
    "\n",
    "data.shape"
   ]
  },
  {
   "cell_type": "code",
   "execution_count": null,
   "metadata": {},
   "outputs": [],
   "source": [
    "# Extract dimensions\n",
    "num_samples, height, width, num_bands = data.shape\n",
    "\n",
    "# Check if wavelength information is available separately\n",
    "wavelengths = None  # if available wavelength list - load it\n",
    "\n",
    "if wavelengths is not None:\n",
    "    spectral_range = (wavelengths.min(), wavelengths.max())  # Min and Max wavelengths\n",
    "    bandwidths = np.diff(wavelengths)  # Bandwidth per band\n",
    "    avg_bandwidth = np.mean(bandwidths) if len(bandwidths) > 0 else None\n",
    "    \n",
    "else:\n",
    "    spectral_range, avg_bandwidth = None, None\n",
    "\n",
    "print(f\"Number of samples: {num_samples}\")\n",
    "print(f\"Image dimensions: {height} x {width} pixels\")\n",
    "print(f\"Number of spectral bands: {num_bands}\")\n",
    "\n",
    "if spectral_range:\n",
    "    print(f\"Spectral range: {spectral_range[0]} nm to {spectral_range[1]} nm\")\n",
    "    \n",
    "if avg_bandwidth:\n",
    "    print(f\"Average bandwidth: {avg_bandwidth:.2f} nm\")"
   ]
  }
 ],
 "metadata": {
  "kernelspec": {
   "display_name": "Python 3",
   "language": "python",
   "name": "python3"
  },
  "language_info": {
   "codemirror_mode": {
    "name": "ipython",
    "version": 3
   },
   "file_extension": ".py",
   "mimetype": "text/x-python",
   "name": "python",
   "nbconvert_exporter": "python",
   "pygments_lexer": "ipython3",
   "version": "3.10.0"
  }
 },
 "nbformat": 4,
 "nbformat_minor": 2
}
