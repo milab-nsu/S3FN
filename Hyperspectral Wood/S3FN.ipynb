{
 "cells": [
  {
   "cell_type": "code",
   "execution_count": null,
   "metadata": {},
   "outputs": [],
   "source": [
    "import numpy as np\n",
    "import tensorflow as tf\n",
    "import torch\n",
    "from tensorflow.keras.models import load_model\n",
    "from tensorflow.keras import Model, layers, Input\n",
    "from sklearn.preprocessing import LabelEncoder"
   ]
  },
  {
   "cell_type": "code",
   "execution_count": null,
   "metadata": {},
   "outputs": [],
   "source": [
    "# Load pretrained CNN model\n",
    "pretrained_model = load_model(\"best_model_wood.h5\")"
   ]
  },
  {
   "cell_type": "code",
   "execution_count": null,
   "metadata": {},
   "outputs": [],
   "source": [
    "pretrained_model.summary()"
   ]
  },
  {
   "cell_type": "code",
   "execution_count": null,
   "metadata": {},
   "outputs": [],
   "source": [
    "#Load label embeddings\n",
    "word_embeddings = np.load(\"wood.npy\", allow_pickle=True).item()  # Dictionary with keys\n",
    "\n",
    "# Extract embeddings and stack into a 2D array\n",
    "word_embeddings = np.stack([word_embeddings['heartwood'], \n",
    "                                   word_embeddings['sapwood']])  # Convert tensors to numpy arrays\n",
    "\n",
    "# Ensure word_embeddings is a Tensor\n",
    "word_embeddings_tensor = tf.convert_to_tensor(word_embeddings, dtype=tf.float32)"
   ]
  },
  {
   "cell_type": "code",
   "execution_count": null,
   "metadata": {},
   "outputs": [],
   "source": [
    "word_embeddings_tensor.shape"
   ]
  },
  {
   "cell_type": "code",
   "execution_count": null,
   "metadata": {},
   "outputs": [],
   "source": [
    "# Freeze the pretrained layers\n",
    "for layer in pretrained_model.layers:\n",
    "    \n",
    "    layer.trainable = False\n",
    "\n",
    "# Get the third-last layer's output\n",
    "second_last_layer_output = pretrained_model.get_layer(index = -4).output  # Shape: (None, 128)\n",
    "\n",
    "# Define a new trainable dense layer with X neurons\n",
    "dense_layer = layers.Dense(300, activation='relu', name=\"trainable_dense_layer\")(second_last_layer_output)  # Shape: (None, 1024)\n",
    "\n",
    "# Compute the dot product with word embeddings\n",
    "dot_product = tf.matmul(dense_layer, tf.transpose(word_embeddings_tensor))  # Shape: (None, 2)\n",
    "\n",
    "# Apply softmax activation to get predictions\n",
    "predictions = layers.Softmax(name=\"softmax_predictions\")(dot_product)"
   ]
  },
  {
   "cell_type": "code",
   "execution_count": null,
   "metadata": {},
   "outputs": [],
   "source": [
    "# Define the new model\n",
    "new_model = Model(inputs=pretrained_model.input, outputs=predictions)\n",
    "\n",
    "# Compile the model for training\n",
    "new_model.compile(optimizer='adam', loss='sparse_categorical_crossentropy', metrics=['accuracy'])\n",
    "\n",
    "# Summary of the new model\n",
    "new_model.summary()"
   ]
  },
  {
   "cell_type": "code",
   "execution_count": null,
   "metadata": {},
   "outputs": [],
   "source": [
    "# Load PCA data and labels\n",
    "data_train = np.load('Wood_data_train_PCA.npy')\n",
    "data_test = np.load('Wood_data_test_PCA.npy')\n",
    "\n",
    "train_labels = np.load('Wood_train_labels.npy', allow_pickle=True)\n",
    "test_labels = np.load('Wood_test_labels.npy', allow_pickle=True)\n",
    "\n",
    "print(data_train.shape, data_test.shape, train_labels.shape, test_labels.shape )"
   ]
  },
  {
   "cell_type": "code",
   "execution_count": null,
   "metadata": {},
   "outputs": [],
   "source": [
    "le = LabelEncoder()\n",
    "\n",
    "y_train = le.fit_transform(train_labels)\n",
    "y_test = le.transform(test_labels) "
   ]
  },
  {
   "cell_type": "code",
   "execution_count": null,
   "metadata": {},
   "outputs": [],
   "source": [
    "# Train the model\n",
    "history = new_model.fit(\n",
    "    \n",
    "    data_train,           \n",
    "    y_train,      \n",
    "    epochs = 50,           \n",
    "    batch_size = 4,     \n",
    "    validation_data=(data_test, y_test),  \n",
    "    \n",
    "    callbacks=[     \n",
    "               \n",
    "        tf.keras.callbacks.EarlyStopping(patience=15, restore_best_weights=True),\n",
    "        tf.keras.callbacks.ModelCheckpoint('best_model_merged_w2v.h5', save_best_only=True)\n",
    "    ]\n",
    ")"
   ]
  },
  {
   "cell_type": "code",
   "execution_count": null,
   "metadata": {},
   "outputs": [],
   "source": [
    "import matplotlib.pyplot as plt\n",
    "\n",
    "# Plot training and validation accuracy\n",
    "plt.plot(history.history['accuracy'], label='Training Accuracy')\n",
    "plt.plot(history.history['val_accuracy'], label='Validation Accuracy')\n",
    "plt.title('Model Accuracy')\n",
    "plt.xlabel('Epochs')\n",
    "plt.ylabel('Accuracy')\n",
    "plt.legend()\n",
    "plt.show()\n",
    "\n",
    "# Plot training and validation loss\n",
    "plt.plot(history.history['loss'], label='Training Loss')\n",
    "plt.plot(history.history['val_loss'], label='Validation Loss')\n",
    "plt.title('Model Loss')\n",
    "plt.xlabel('Epochs')\n",
    "plt.ylabel('Loss')\n",
    "plt.legend()\n",
    "plt.show()\n"
   ]
  },
  {
   "cell_type": "code",
   "execution_count": null,
   "metadata": {},
   "outputs": [],
   "source": [
    "new_model = load_model('S3FN.h5')"
   ]
  },
  {
   "cell_type": "code",
   "execution_count": null,
   "metadata": {},
   "outputs": [],
   "source": [
    "# Evaluate the model\n",
    "test_loss, test_accuracy = new_model.evaluate(data_test, y_test)\n",
    "\n",
    "print(f\"Test Loss: {test_loss:.4f}\")\n",
    "print(f\"Test Accuracy: {test_accuracy:.4f}\")"
   ]
  },
  {
   "cell_type": "code",
   "execution_count": null,
   "metadata": {},
   "outputs": [],
   "source": [
    "# Predict class probabilities for the test set\n",
    "test_predictions_prob = new_model.predict(data_test)\n",
    "\n",
    "# Convert probabilities to predicted class labels\n",
    "test_predictions = np.argmax(test_predictions_prob, axis=1)"
   ]
  },
  {
   "cell_type": "code",
   "execution_count": null,
   "metadata": {},
   "outputs": [],
   "source": [
    "from sklearn.metrics import classification_report\n",
    "\n",
    "print(\"Classification Report:\")\n",
    "print(classification_report(y_test, test_predictions, target_names=[\"Heartwood\", \"Sapwood\"], digits=4))"
   ]
  },
  {
   "cell_type": "code",
   "execution_count": null,
   "metadata": {},
   "outputs": [],
   "source": [
    "from sklearn.metrics import confusion_matrix\n",
    "import seaborn as sns\n",
    "import matplotlib.pyplot as plt\n",
    "\n",
    "# Compute confusion matrix\n",
    "cm = confusion_matrix(y_test, test_predictions)\n",
    "\n",
    "plt.figure(figsize=(8, 6))\n",
    "sns.heatmap(cm, annot=True, fmt='d', cmap='Blues', xticklabels=[\"Heartwood\", \"Sapwood\"], yticklabels=[\"Heartwood\", \"Sapwood\"])\n",
    "plt.title(\"Confusion Matrix\")\n",
    "plt.xlabel(\"Predicted Labels\")\n",
    "plt.ylabel(\"True Labels\")\n",
    "plt.show()"
   ]
  }
 ],
 "metadata": {
  "kernelspec": {
   "display_name": "Python 3",
   "language": "python",
   "name": "python3"
  },
  "language_info": {
   "codemirror_mode": {
    "name": "ipython",
    "version": 3
   },
   "file_extension": ".py",
   "mimetype": "text/x-python",
   "name": "python",
   "nbconvert_exporter": "python",
   "pygments_lexer": "ipython3",
   "version": "3.10.0"
  }
 },
 "nbformat": 4,
 "nbformat_minor": 2
}
