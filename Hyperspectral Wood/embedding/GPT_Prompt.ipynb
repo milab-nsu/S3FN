{
 "cells": [
  {
   "cell_type": "code",
   "execution_count": null,
   "metadata": {},
   "outputs": [],
   "source": [
    "import openai"
   ]
  },
  {
   "cell_type": "code",
   "execution_count": null,
   "metadata": {},
   "outputs": [],
   "source": [
    "# Set your API key\n",
    "openai.api_key = 'API-KEY-HERE'\n",
    "\n",
    "# Define the labels\n",
    "labels = [\"Heartwood\", \"Sapwood\"]\n",
    "\n",
    "# Number of paragraphs per label\n",
    "paragraphs_per_label = 10"
   ]
  },
  {
   "cell_type": "code",
   "execution_count": null,
   "metadata": {},
   "outputs": [],
   "source": [
    "# Function to generate factual and comparative paragraphs\n",
    "def generate_paragraphs(labels, num_paragraphs):\n",
    "    \n",
    "    results = {}\n",
    "    \n",
    "    for label in labels:\n",
    "        \n",
    "        paragraphs = []\n",
    "        \n",
    "        for _ in range(num_paragraphs):\n",
    "            \n",
    "            # Generate a paragraph focusing on the current label and comparing it with others\n",
    "            response = openai.ChatCompletion.create(\n",
    "                \n",
    "                model = \"gpt-4\",\n",
    "                \n",
    "                messages=[\n",
    "                    \n",
    "                    {\"role\": \"system\", \"content\": \"You are an expert researcher and writer. Provide factual, precise, and comparative content with a focus on hyperspectral analysis.\"},\n",
    "                    {\n",
    "                        \"role\": \"user\",\n",
    "                        \n",
    "                        \"content\": (\n",
    "                            f\"Provide a detailed, fact-based paragraph about {label}, emphasizing its unique spectral characteristics \"\n",
    "                            f\"and how its reflectance properties differ from the other labels: \"\n",
    "                            f\"{', '.join([lbl for lbl in labels if lbl != label])}. \"\n",
    "                            f\"Focus specifically on its spectral signature in the VNIR range (400–1000 nm), highlighting key \"\n",
    "                            f\"absorption features, reflectance peaks, and any notable spectral variations. Compare how these \"\n",
    "                            f\"differences manifest in hyperspectral imaging, considering material composition, chemical properties, \"\n",
    "                            f\"and subtle spectral anomalies. Emphasize how these spectral distinctions aid in hyperspectral classification and \"\n",
    "                            f\"analysis. Additionally, mention any relevant physical or material properties that influence these \"\n",
    "                            f\"spectral behaviors and how they aid in classification and material identification.\"\n",
    "                        )\n",
    "                    }\n",
    "                ],\n",
    "                \n",
    "                max_tokens=400\n",
    "            )\n",
    "            # Extract the generated content\n",
    "            \n",
    "            paragraph = response['choices'][0]['message']['content']\n",
    "            paragraphs.append(paragraph)\n",
    "            \n",
    "        results[label] = paragraphs\n",
    "    \n",
    "    return results"
   ]
  },
  {
   "cell_type": "code",
   "execution_count": null,
   "metadata": {},
   "outputs": [],
   "source": [
    "# Generate paragraphs for each label\n",
    "print(\"Generating paragraphs...\")\n",
    "\n",
    "generated_paragraphs = generate_paragraphs(labels, paragraphs_per_label)\n",
    "\n",
    "# Save results to a text file\n",
    "output_file = \"Wood_Corpus.txt\"\n",
    "\n",
    "with open(output_file, \"w\") as file:\n",
    "    \n",
    "    for label, paragraphs in generated_paragraphs.items():\n",
    "        \n",
    "        file.write(f\"--- {label} ---\\n\")\n",
    "        \n",
    "        for i, paragraph in enumerate(paragraphs, 1):\n",
    "            file.write(f\"{i}. {paragraph}\\n\\n\")\n",
    "            \n",
    "print(f\"Results saved to {output_file}\")\n",
    "\n",
    "print(\"Paragraph generation complete.\")"
   ]
  }
 ],
 "metadata": {
  "kernelspec": {
   "display_name": "Python 3",
   "language": "python",
   "name": "python3"
  },
  "language_info": {
   "codemirror_mode": {
    "name": "ipython",
    "version": 3
   },
   "file_extension": ".py",
   "mimetype": "text/x-python",
   "name": "python",
   "nbconvert_exporter": "python",
   "pygments_lexer": "ipython3",
   "version": "3.10.0"
  }
 },
 "nbformat": 4,
 "nbformat_minor": 2
}
