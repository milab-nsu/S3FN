{
 "cells": [
  {
   "cell_type": "code",
   "execution_count": 1,
   "metadata": {},
   "outputs": [],
   "source": [
    "import gensim\n",
    "import numpy as np\n",
    "from sklearn.metrics.pairwise import cosine_similarity"
   ]
  },
  {
   "cell_type": "code",
   "execution_count": null,
   "metadata": {},
   "outputs": [],
   "source": [
    "# Load pre-trained Word2Vec model\n",
    "model_path = '<path_to__directory>\\GoogleNews-vectors-negative300.bin'  # Provide the path to the .bin file\n",
    "\n",
    "# Load the Word2Vec model\n",
    "model = gensim.models.KeyedVectors.load_word2vec_format(model_path, binary=True)"
   ]
  },
  {
   "cell_type": "code",
   "execution_count": 3,
   "metadata": {},
   "outputs": [],
   "source": [
    "# Function to compute the embedding for a description by averaging word embeddings\n",
    "def get_average_word2vec(description, model):\n",
    "    words = description.split()  # Split the description into words\n",
    "    word_vectors = []\n",
    "    \n",
    "    for word in words:\n",
    "        # If the word exists in the Word2Vec vocabulary, add its vector\n",
    "        if word in model:\n",
    "            word_vectors.append(model[word])\n",
    "    \n",
    "    # If no words are found in the model, return a zero vector (this is a fallback)\n",
    "    if not word_vectors:\n",
    "        return np.zeros(model.vector_size)\n",
    "    \n",
    "    # Return the average of the word vectors\n",
    "    return np.mean(word_vectors, axis=0)\n",
    "\n",
    "# Function to compute cosine similarity between two embeddings\n",
    "def compute_cosine_similarity(embedding1, embedding2):\n",
    "    similarity = cosine_similarity([embedding1], [embedding2])\n",
    "    return similarity[0][0]"
   ]
  },
  {
   "cell_type": "code",
   "execution_count": 4,
   "metadata": {},
   "outputs": [],
   "source": [
    "heartwood_file = 'Heartwood_Corpus.txt'  # Path to the heartwood description file\n",
    "sapwood_file = 'Sapwood_Corpus.txt'  # Path to the sapwood description file\n",
    "\n",
    "# Step 1: Generate embeddings by averaging Word2Vec vectors\n",
    "def generate_embedding_from_file(file_path, model):\n",
    "    with open(file_path, 'r') as file:\n",
    "        description = file.read().strip()  # Read the description and strip any extra whitespace\n",
    "    return get_average_word2vec(description, model)\n",
    "\n",
    "heartwood_embedding = generate_embedding_from_file(heartwood_file, model)\n",
    "sapwood_embedding = generate_embedding_from_file(sapwood_file, model)"
   ]
  },
  {
   "cell_type": "code",
   "execution_count": 5,
   "metadata": {},
   "outputs": [
    {
     "name": "stdout",
     "output_type": "stream",
     "text": [
      "Cosine similarity between heartwood and sapwood: 0.9913541078567505\n"
     ]
    },
    {
     "data": {
      "text/plain": [
       "(300,)"
      ]
     },
     "execution_count": 5,
     "metadata": {},
     "output_type": "execute_result"
    }
   ],
   "source": [
    "# Step 2: Compute cosine similarity\n",
    "similarity = compute_cosine_similarity(heartwood_embedding, sapwood_embedding)\n",
    "\n",
    "# Step 3: Display the similarity score\n",
    "print(f\"Cosine similarity between heartwood and sapwood: {similarity}\")\n",
    "heartwood_embedding.shape"
   ]
  },
  {
   "cell_type": "code",
   "execution_count": 6,
   "metadata": {},
   "outputs": [],
   "source": [
    "# Create a dictionary containing both embeddings\n",
    "embeddings_dict = {\n",
    "    'heartwood': heartwood_embedding,\n",
    "    'sapwood': sapwood_embedding\n",
    "}\n",
    "\n",
    "# Save the dictionary as a single .npy file\n",
    "np.save('embeddings_dict.npy', embeddings_dict)"
   ]
  },
  {
   "cell_type": "code",
   "execution_count": 6,
   "metadata": {},
   "outputs": [],
   "source": [
    "np.save('heartwood_embedding_word2vec.npy', heartwood_embedding)\n",
    "np.save('sapwood_embedding_word2vec.npy', sapwood_embedding)"
   ]
  }
 ],
 "metadata": {
  "kernelspec": {
   "display_name": "Python 3",
   "language": "python",
   "name": "python3"
  },
  "language_info": {
   "codemirror_mode": {
    "name": "ipython",
    "version": 3
   },
   "file_extension": ".py",
   "mimetype": "text/x-python",
   "name": "python",
   "nbconvert_exporter": "python",
   "pygments_lexer": "ipython3",
   "version": "3.10.0"
  }
 },
 "nbformat": 4,
 "nbformat_minor": 2
}
