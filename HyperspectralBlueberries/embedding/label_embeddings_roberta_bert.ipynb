{
 "cells": [
  {
   "cell_type": "code",
   "execution_count": null,
   "metadata": {},
   "outputs": [],
   "source": [
    "from transformers import RobertaTokenizer, RobertaModel\n",
    "import torch\n",
    "from sklearn.metrics.pairwise import cosine_similarity\n",
    "import numpy as np"
   ]
  },
  {
   "cell_type": "code",
   "execution_count": null,
   "metadata": {},
   "outputs": [],
   "source": [
    "# Step 1: Load the text from a .txt file\n",
    "file_path = 'Blueberry_Corpus.txt'\n",
    "\n",
    "with open(file_path, 'r') as file:\n",
    "    text = file.read()\n",
    "    \n",
    "text = text.replace('-', '').replace('_', '').lower()"
   ]
  },
  {
   "cell_type": "code",
   "execution_count": null,
   "metadata": {},
   "outputs": [],
   "source": [
    "print(text)"
   ]
  },
  {
   "cell_type": "code",
   "execution_count": null,
   "metadata": {},
   "outputs": [],
   "source": [
    "# Step 2: Load pre-trained RoBERTa or bert tokenizer and model\n",
    "tokenizer = RobertaTokenizer.from_pretrained('roberta-large')\n",
    "model = RobertaModel.from_pretrained('roberta-large')"
   ]
  },
  {
   "cell_type": "code",
   "execution_count": null,
   "metadata": {},
   "outputs": [],
   "source": [
    "print(tokenizer.tokenize(\"normal blueberries\")) "
   ]
  },
  {
   "cell_type": "code",
   "execution_count": null,
   "metadata": {},
   "outputs": [],
   "source": [
    "# Step 3: Tokenize the text\n",
    "inputs = tokenizer(text, return_tensors='pt', truncation=True, padding=True)\n",
    "\n",
    "#see tokens:\n",
    "input_ids = inputs['input_ids'][0]\n",
    "tokens = tokenizer.convert_ids_to_tokens(input_ids)\n",
    "\n",
    "print(\"Tokens:\", tokens)"
   ]
  },
  {
   "cell_type": "code",
   "execution_count": null,
   "metadata": {},
   "outputs": [],
   "source": [
    "# Step 4: Extract embeddings\n",
    "# Get the tokenized input IDs and attention mask\n",
    "input_ids = inputs['input_ids']\n",
    "attention_mask = inputs['attention_mask']\n",
    "\n",
    "# Run the inputs through the model\n",
    "with torch.no_grad():\n",
    "    \n",
    "    outputs = model(input_ids, attention_mask=attention_mask)\n",
    "    \n",
    "    # Get the last hidden states (embeddings for each token)\n",
    "    embeddings = outputs.last_hidden_state"
   ]
  },
  {
   "cell_type": "code",
   "execution_count": null,
   "metadata": {},
   "outputs": [],
   "source": [
    "# List of words to extract embeddings for\n",
    "words = [\"normal blueberries\", \"defective blueberries\"]\n",
    "\n",
    "# Tokenize the individual words\n",
    "words_ids = {word: tokenizer.encode(word, add_special_tokens=False) for word in words}\n",
    "\n",
    "# Initialize a dictionary to store embeddings\n",
    "embeddings_dict = {}\n",
    "\n",
    "# Loop through each word in the list\n",
    "for word, word_id in words_ids.items():\n",
    "    \n",
    "    # Find the indices of this word in the tokenized input\n",
    "    indices = [i for i, id_ in enumerate(input_ids[0]) if id_ in word_id]\n",
    "    \n",
    "    # Extract embeddings for the specific word\n",
    "    embedding = embeddings[0, indices, :].mean(dim=0) if indices else None\n",
    "    \n",
    "    # Store the embedding in the dictionary\n",
    "    embeddings_dict[word] = embedding\n",
    "\n",
    "# Output the embeddings\n",
    "for word, embedding in embeddings_dict.items():\n",
    "    \n",
    "    print(f\"Embedding for {word}: {embedding}\")\n",
    "    \n",
    "normal_blueberry_embedding = embeddings_dict[\"normal blueberries\"]\n",
    "defective_blueberry_embedding = embeddings_dict[\"defective blueberries\"]"
   ]
  },
  {
   "cell_type": "code",
   "execution_count": null,
   "metadata": {},
   "outputs": [],
   "source": [
    "print(normal_blueberry_embedding.shape, defective_blueberry_embedding.shape)\n",
    "\n",
    "similarity = cosine_similarity(normal_blueberry_embedding.unsqueeze(0), defective_blueberry_embedding.unsqueeze(0))\n",
    "print(\"Cosine Similarity:\", similarity)"
   ]
  },
  {
   "cell_type": "code",
   "execution_count": null,
   "metadata": {},
   "outputs": [],
   "source": [
    "# Save the embeddings to a .npy file\n",
    "np.save(\"Blueberry_Embeddings_Roberta.npy\", embeddings_dict)"
   ]
  },
  {
   "cell_type": "code",
   "execution_count": null,
   "metadata": {},
   "outputs": [],
   "source": [
    "#load the embeddings back to verify\n",
    "loaded_embeddings = np.load(\"Blueberry_Embeddings_Roberta.npy\", allow_pickle=True).item()\n",
    "\n",
    "#print(loaded_embeddings.shape)\n",
    "print(loaded_embeddings)"
   ]
  }
 ],
 "metadata": {
  "kernelspec": {
   "display_name": "Python 3",
   "language": "python",
   "name": "python3"
  },
  "language_info": {
   "codemirror_mode": {
    "name": "ipython",
    "version": 3
   },
   "file_extension": ".py",
   "mimetype": "text/x-python",
   "name": "python",
   "nbconvert_exporter": "python",
   "pygments_lexer": "ipython3",
   "version": "3.10.0"
  }
 },
 "nbformat": 4,
 "nbformat_minor": 2
}
