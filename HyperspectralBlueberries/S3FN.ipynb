{
 "cells": [
  {
   "cell_type": "code",
   "execution_count": null,
   "metadata": {},
   "outputs": [],
   "source": [
    "import numpy as np\n",
    "import tensorflow as tf\n",
    "import torch\n",
    "from tensorflow.keras.models import load_model\n",
    "from tensorflow.keras import Model, layers, Input\n",
    "from sklearn.preprocessing import LabelEncoder"
   ]
  },
  {
   "cell_type": "code",
   "execution_count": null,
   "metadata": {},
   "outputs": [],
   "source": [
    "config = tf.compat.v1.ConfigProto(gpu_options = tf.compat.v1.GPUOptions(per_process_gpu_memory_fraction=1))\n",
    "config.gpu_options.allow_growth = True\n",
    "session = tf.compat.v1.Session(config=config)\n",
    "tf.compat.v1.keras.backend.set_session(session)\n",
    "physical_devices = tf.config.experimental.list_physical_devices('GPU')\n",
    "\n",
    "print(\"Num GPUs Available: \", len(physical_devices))"
   ]
  },
  {
   "cell_type": "code",
   "execution_count": null,
   "metadata": {},
   "outputs": [],
   "source": [
    "# Load pretrained CNN model\n",
    "pretrained_model = load_model(\"best_model_blueberry.h5\")\n",
    "\n",
    "pretrained_model.summary()"
   ]
  },
  {
   "cell_type": "code",
   "execution_count": null,
   "metadata": {},
   "outputs": [],
   "source": [
    "# Load label embeddings\n",
    "word_embeddings = np.load(\"Blueberry_Embeddings.npy\", allow_pickle=True).item()  # Dictionary with keys\n",
    "\n",
    "# Extract embeddings and stack into a 2D array\n",
    "word_embeddings = np.stack([word_embeddings['Good blueberries'].numpy(), \n",
    "                                   word_embeddings['Bad blueberries'].numpy()])  # Convert tensors to numpy arrays\n",
    "\n",
    "# Ensure word_embeddings is a Tensor\n",
    "word_embeddings_tensor = tf.convert_to_tensor(word_embeddings, dtype=tf.float32)"
   ]
  },
  {
   "cell_type": "code",
   "execution_count": null,
   "metadata": {},
   "outputs": [],
   "source": [
    "# Freeze the pretrained layers\n",
    "for layer in pretrained_model.layers:\n",
    "    \n",
    "    layer.trainable = False\n",
    "\n",
    "# Get the third-last layer's output\n",
    "second_last_layer_output = pretrained_model.get_layer(index = -4).output  # Shape: (None, 128)\n",
    "\n",
    "# Define a new trainable dense layer with 1024 neurons\n",
    "dense_layer = layers.Dense(1024, activation = 'relu', name=\"trainable_dense_layer\")(second_last_layer_output)  # Shape: (None, 1024)\n",
    "\n",
    "# Normalize the dense layer output and word embeddings tensor\n",
    "dense_layer_norm = tf.nn.l2_normalize(dense_layer, axis=1)  # Normalize along the last dimension\n",
    "word_embeddings_norm = tf.nn.l2_normalize(word_embeddings_tensor, axis=1)\n",
    "\n",
    "# Compute the dot product with word embeddings\n",
    "#dot_product = tf.matmul(dense_layer, tf.transpose(word_embeddings_tensor))  # Shape: (None, 2)\n",
    "dot_product = tf.matmul(dense_layer_norm, tf.transpose(word_embeddings_norm))  # Shape: (None, 2)\n",
    "\n",
    "# Apply softmax activation to get predictions\n",
    "predictions = layers.Softmax(name=\"softmax_predictions\")(dot_product)"
   ]
  },
  {
   "cell_type": "code",
   "execution_count": null,
   "metadata": {},
   "outputs": [],
   "source": [
    "# Define the new model\n",
    "new_model = Model(inputs=pretrained_model.input, outputs=predictions)\n",
    "\n",
    "# Compile the model for training\n",
    "new_model.compile(optimizer='adam', loss='sparse_categorical_crossentropy', metrics=['accuracy'])\n",
    "\n",
    "new_model.summary()"
   ]
  },
  {
   "cell_type": "code",
   "execution_count": null,
   "metadata": {},
   "outputs": [],
   "source": [
    "# Load PCA data and labels\n",
    "data_train = np.load('data_train_PCA.npy')  # Assuming shape (n_samples, 32 * 32 * 199)\n",
    "data_test = np.load('data_test_PCA.npy')\n",
    "\n",
    "train_labels = np.load('train_labels.npy', allow_pickle=True)  # Labels in integer format\n",
    "test_labels = np.load('test_labels.npy', allow_pickle=True)\n",
    "\n",
    "print(data_train.shape, data_test.shape, train_labels.shape, test_labels.shape )"
   ]
  },
  {
   "cell_type": "code",
   "execution_count": null,
   "metadata": {},
   "outputs": [],
   "source": [
    "le= LabelEncoder()\n",
    "y_train = le.fit_transform(train_labels)\n",
    "\n",
    "le2= LabelEncoder()\n",
    "y_test= le2.fit_transform(test_labels)"
   ]
  },
  {
   "cell_type": "code",
   "execution_count": null,
   "metadata": {},
   "outputs": [],
   "source": [
    "print(np.unique(train_labels))\n",
    "print(np.unique(y_train))"
   ]
  },
  {
   "cell_type": "code",
   "execution_count": null,
   "metadata": {},
   "outputs": [],
   "source": [
    "def augment_data(sample, label):\n",
    "    \n",
    "    # Ensure both are the same type\n",
    "    random_scale = tf.cast(tf.random.uniform([], 0.9, 1.1), dtype=sample.dtype)\n",
    "    sample = sample * random_scale  # Random scale between 0.9 and 1.1\n",
    "    \n",
    "    return sample, label"
   ]
  },
  {
   "cell_type": "code",
   "execution_count": null,
   "metadata": {},
   "outputs": [],
   "source": [
    "# Convert data to TensorFlow dataset\n",
    "\n",
    "train_dataset = tf.data.Dataset.from_tensor_slices((data_train, y_train))\n",
    "test_dataset = tf.data.Dataset.from_tensor_slices((data_test, y_test))\n",
    "\n",
    "# Apply augmentation only on training data\n",
    "train_dataset = train_dataset.map(augment_data, num_parallel_calls=tf.data.AUTOTUNE)\n",
    "\n",
    "# Shuffle, batch, and prefetch\n",
    "batch_size = 4\n",
    "\n",
    "train_dataset = train_dataset.shuffle(buffer_size=100).batch(batch_size).prefetch(tf.data.AUTOTUNE)\n",
    "test_dataset = test_dataset.batch(batch_size).prefetch(tf.data.AUTOTUNE)"
   ]
  },
  {
   "cell_type": "code",
   "execution_count": null,
   "metadata": {},
   "outputs": [],
   "source": [
    "# Define the callbacks\n",
    "checkpoint_callback = tf.keras.callbacks.ModelCheckpoint(\n",
    "    filepath='Blueberry_Fused_new2.h5',         # Path to save the best model\n",
    "    monitor='val_accuracy',                       # Metric to monitor\n",
    "    save_best_only=True,                      # Save only the best model\n",
    "    save_weights_only=False,                  # Save the entire model (architecture + weights)\n",
    "    mode='max',                               # Mode 'min' because we want to minimize validation loss\n",
    "    verbose=1\n",
    ")\n",
    "\n",
    "early_stopping_callback = tf.keras.callbacks.EarlyStopping(\n",
    "    monitor='val_loss',                       # Metric to monitor\n",
    "    patience=15,                              # Number of epochs to wait before stopping\n",
    "    restore_best_weights=True                 # Restore model weights from the epoch with the best metric\n",
    ")\n",
    "\n",
    "# Train the model with the callbacks\n",
    "history = new_model.fit(\n",
    "    train_dataset,\n",
    "    epochs=50,\n",
    "    validation_data=test_dataset,\n",
    "    callbacks=[checkpoint_callback, early_stopping_callback]\n",
    ")"
   ]
  },
  {
   "cell_type": "code",
   "execution_count": null,
   "metadata": {},
   "outputs": [],
   "source": [
    "import matplotlib.pyplot as plt\n",
    "\n",
    "# Plot training and validation accuracy\n",
    "plt.plot(history.history['accuracy'], label='Training Accuracy')\n",
    "plt.plot(history.history['val_accuracy'], label='Validation Accuracy')\n",
    "plt.title('Model Accuracy')\n",
    "plt.xlabel('Epochs')\n",
    "plt.ylabel('Accuracy')\n",
    "plt.legend()\n",
    "plt.show()\n",
    "\n",
    "# Plot training and validation loss\n",
    "plt.plot(history.history['loss'], label='Training Loss')\n",
    "plt.plot(history.history['val_loss'], label='Validation Loss')\n",
    "plt.title('Model Loss')\n",
    "plt.xlabel('Epochs')\n",
    "plt.ylabel('Loss')\n",
    "plt.legend()\n",
    "plt.show()"
   ]
  },
  {
   "cell_type": "code",
   "execution_count": null,
   "metadata": {},
   "outputs": [],
   "source": [
    "merged_model = load_model(\"S3FN.h5\")"
   ]
  },
  {
   "cell_type": "code",
   "execution_count": null,
   "metadata": {},
   "outputs": [],
   "source": [
    "# Evaluate the model\n",
    "test_loss, test_accuracy = merged_model.evaluate(test_dataset)\n",
    "\n",
    "print(f\"Test Loss: {test_loss:.4f}\")\n",
    "print(f\"Test Accuracy: {test_accuracy:.4f}\")"
   ]
  },
  {
   "cell_type": "code",
   "execution_count": null,
   "metadata": {},
   "outputs": [],
   "source": [
    "test_predictions_prob = merged_model.predict(test_dataset)\n",
    "test_predictions = np.argmax(test_predictions_prob, axis=1)"
   ]
  },
  {
   "cell_type": "code",
   "execution_count": null,
   "metadata": {},
   "outputs": [],
   "source": [
    "from sklearn.metrics import classification_report\n",
    "\n",
    "# Generate classification report\n",
    "print(\"Classification Report:\")\n",
    "print(classification_report(y_test, test_predictions, target_names=[\"Good_Blueberry\", \"Bad_Blueberry\"]))\n"
   ]
  },
  {
   "cell_type": "code",
   "execution_count": null,
   "metadata": {},
   "outputs": [],
   "source": [
    "from sklearn.metrics import confusion_matrix\n",
    "import seaborn as sns\n",
    "import matplotlib.pyplot as plt\n",
    "\n",
    "#confusion matrix\n",
    "cm = confusion_matrix(y_test, test_predictions)\n",
    "\n",
    "plt.figure(figsize=(8, 6))\n",
    "sns.heatmap(cm, annot=True, fmt='d', cmap='Blues', xticklabels=[\"Good_Blueberry\", \"Bad_Blueberry\"], yticklabels=[\"Good_Blueberry\", \"Bad_Blueberry\"])\n",
    "plt.title(\"Confusion Matrix\")\n",
    "plt.xlabel(\"Predicted Labels\")\n",
    "plt.ylabel(\"True Labels\")\n",
    "plt.show()\n"
   ]
  }
 ],
 "metadata": {
  "kernelspec": {
   "display_name": "Python 3",
   "language": "python",
   "name": "python3"
  },
  "language_info": {
   "codemirror_mode": {
    "name": "ipython",
    "version": 3
   },
   "file_extension": ".py",
   "mimetype": "text/x-python",
   "name": "python",
   "nbconvert_exporter": "python",
   "pygments_lexer": "ipython3",
   "version": "3.10.0"
  }
 },
 "nbformat": 4,
 "nbformat_minor": 2
}
