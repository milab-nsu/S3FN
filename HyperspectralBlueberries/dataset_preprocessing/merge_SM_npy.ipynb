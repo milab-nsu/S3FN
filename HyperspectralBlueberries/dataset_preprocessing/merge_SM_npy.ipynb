{
 "cells": [
  {
   "cell_type": "code",
   "execution_count": null,
   "metadata": {},
   "outputs": [],
   "source": [
    "import os\n",
    "import numpy as np\n",
    "import matplotlib.pyplot as plt"
   ]
  },
  {
   "cell_type": "code",
   "execution_count": null,
   "metadata": {},
   "outputs": [],
   "source": [
    "def merge_npy_files(root_dir, output_file):\n",
    "\n",
    "    merged_data = []\n",
    "\n",
    "    for dirpath, dirnames, filenames in os.walk(root_dir):\n",
    "        \n",
    "        for file in filenames:\n",
    "            \n",
    "            if file.endswith(\".npy\"):\n",
    "                \n",
    "                file_path = os.path.join(dirpath, file)\n",
    "                \n",
    "                try:\n",
    "                    # Load the .npy file\n",
    "                    data = np.load(file_path)\n",
    "                    \n",
    "                    # Append the data to the merged_data list\n",
    "                    merged_data.append(data)\n",
    "                    \n",
    "                except Exception as e:\n",
    "                    \n",
    "                    print(f\"Error loading {file_path}: {e}\")\n",
    "    \n",
    "    if merged_data:\n",
    "        \n",
    "        # Concatenate all the arrays into one\n",
    "        merged_array = np.concatenate(merged_data, axis=0)\n",
    "\n",
    "        np.save(output_file, merged_array)\n",
    "        print(f\"Merged .npy file saved at {output_file}\")\n",
    "        \n",
    "    else:\n",
    "        print(\"No .npy files found to merge.\")\n",
    "\n",
    "root_directory = '<path_to_file>/SM'\n",
    "output_file_path = \"All_SM.npy\"\n",
    "\n",
    "merge_npy_files(root_directory, output_file_path)"
   ]
  },
  {
   "cell_type": "code",
   "execution_count": null,
   "metadata": {},
   "outputs": [],
   "source": [
    "data = np.load('All_SM.npy', allow_pickle=True)\n",
    "data.shape"
   ]
  },
  {
   "cell_type": "code",
   "execution_count": null,
   "metadata": {},
   "outputs": [],
   "source": [
    "print(data[44])"
   ]
  },
  {
   "cell_type": "code",
   "execution_count": null,
   "metadata": {},
   "outputs": [],
   "source": [
    "def plot_random_spectral_curves(data, num_samples):\n",
    "    \n",
    "    # Exclude the label column\n",
    "    spectral_data = data[:, :-1]\n",
    "    labels = data[:, -1]\n",
    "\n",
    "    # Randomly choose `num_samples` rows\n",
    "    random_indices = np.random.choice(spectral_data.shape[0], num_samples, replace=False)\n",
    "\n",
    "    plt.figure(figsize=(10, 5))\n",
    "\n",
    "    for i, idx in enumerate(random_indices):\n",
    "        \n",
    "        # Extract the label\n",
    "        label = labels[idx]\n",
    "\n",
    "        # Extract the spectral values\n",
    "        spectral_values = spectral_data[idx].astype(float)\n",
    "        wavelengths = np.arange(1, spectral_values.shape[0] + 1)\n",
    "\n",
    "        # Plot the spectral curve\n",
    "        plt.plot(wavelengths, spectral_values, label=f\"Sample {idx} - Label: {label}\")\n",
    "\n",
    "    plt.title(f\"Spectral Curves for {num_samples} Random Samples\")\n",
    "    plt.xlabel(\"Bands\")\n",
    "    plt.ylabel(\"Mean Reflectance\")\n",
    "    plt.grid(True)\n",
    "    plt.legend()\n",
    "    plt.show()\n",
    "    \n",
    "plot_random_spectral_curves(data, num_samples = 10)"
   ]
  }
 ],
 "metadata": {
  "kernelspec": {
   "display_name": "Python 3",
   "language": "python",
   "name": "python3"
  },
  "language_info": {
   "codemirror_mode": {
    "name": "ipython",
    "version": 3
   },
   "file_extension": ".py",
   "mimetype": "text/x-python",
   "name": "python",
   "nbconvert_exporter": "python",
   "pygments_lexer": "ipython3",
   "version": "3.10.0"
  }
 },
 "nbformat": 4,
 "nbformat_minor": 2
}
