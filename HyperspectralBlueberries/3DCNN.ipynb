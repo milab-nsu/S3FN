{
 "cells": [
  {
   "cell_type": "code",
   "execution_count": null,
   "metadata": {},
   "outputs": [],
   "source": [
    "import tensorflow as tf\n",
    "from tensorflow.keras import layers, models\n",
    "from tensorflow.keras.losses import SparseCategoricalCrossentropy\n",
    "import numpy as np\n",
    "from sklearn.preprocessing import LabelEncoder\n",
    "from sklearn.metrics import classification_report, confusion_matrix\n",
    "import matplotlib.pyplot as plt\n",
    "import seaborn as sns\n",
    "from tensorflow.keras import models, layers, regularizers"
   ]
  },
  {
   "cell_type": "code",
   "execution_count": null,
   "metadata": {},
   "outputs": [],
   "source": [
    "config = tf.compat.v1.ConfigProto(gpu_options =\n",
    "                         tf.compat.v1.GPUOptions(per_process_gpu_memory_fraction=1)\n",
    ")\n",
    "\n",
    "config.gpu_options.allow_growth = True\n",
    "session = tf.compat.v1.Session(config=config)\n",
    "tf.compat.v1.keras.backend.set_session(session)\n",
    "\n",
    "physical_devices = tf.config.experimental.list_physical_devices('GPU')\n",
    "print(\"Num GPUs Available: \", len(physical_devices))"
   ]
  },
  {
   "cell_type": "code",
   "execution_count": null,
   "metadata": {},
   "outputs": [],
   "source": [
    "data_train = np.load('<path_to_file>/train_data.npy', allow_pickle=True)\n",
    "train_labels = np.load('<path_to_file>/train_labels.npy', allow_pickle=True)\n",
    "\n",
    "data_val = np.load('<path_to_file>/val_data.npy', allow_pickle=True)\n",
    "val_labels = np.load('<path_to_file>/val_labels.npy', allow_pickle=True)\n",
    "\n",
    "data_test = np.load('<path_to_file>/test_data.npy', allow_pickle=True)\n",
    "test_labels = np.load('<path_to_file>/test_labels.npy', allow_pickle=True)\n",
    "\n",
    "# Check the shapes of all datasets\n",
    "data_train.shape, train_labels.shape, data_val.shape, val_labels.shape, data_test.shape, test_labels.shape"
   ]
  },
  {
   "cell_type": "code",
   "execution_count": null,
   "metadata": {},
   "outputs": [],
   "source": [
    "# Compute mean and std from training data (per-channel normalization)\n",
    "mean = data_train.mean(axis=(0, 1, 2), keepdims=True)\n",
    "std_dev = data_train.std(axis=(0, 1, 2), keepdims=True)\n",
    "\n",
    "# Normalize all datasets using training statistics\n",
    "data_train = (data_train - mean) / std_dev\n",
    "data_val = (data_val - mean) / std_dev\n",
    "data_test = (data_test - mean) / std_dev\n",
    "\n",
    "# Verify shapes\n",
    "print(\"Shapes after normalization:\")\n",
    "print(\"Train:\", data_train.shape, \"Labels:\", train_labels.shape)\n",
    "print(\"Val:\", data_val.shape, \"Labels:\", val_labels.shape)\n",
    "print(\"Test:\", data_test.shape, \"Labels:\", test_labels.shape)"
   ]
  },
  {
   "cell_type": "code",
   "execution_count": null,
   "metadata": {},
   "outputs": [],
   "source": [
    "le = LabelEncoder()\n",
    "\n",
    "y_train = le.fit_transform(train_labels)\n",
    "y_val = le.transform(val_labels)\n",
    "y_test = le.transform(test_labels)\n",
    "\n",
    "print(\"Class mapping:\", le.classes_)"
   ]
  },
  {
   "cell_type": "code",
   "execution_count": null,
   "metadata": {},
   "outputs": [],
   "source": [
    "for class_name, encoded_label in zip(le.classes_, range(len(le.classes_))):\n",
    "    \n",
    "    print(f\"Original: '{class_name}' \\t-> Encoded: {encoded_label}\")"
   ]
  },
  {
   "cell_type": "code",
   "execution_count": null,
   "metadata": {},
   "outputs": [],
   "source": [
    "# Add channel dimension to data\n",
    "data_train = data_train[..., np.newaxis]\n",
    "data_val = data_val[..., np.newaxis]\n",
    "data_test = data_test[..., np.newaxis]\n",
    "\n",
    "data_train.shape ,data_val.shape, data_test.shape"
   ]
  },
  {
   "cell_type": "code",
   "execution_count": null,
   "metadata": {},
   "outputs": [],
   "source": [
    "def augment_data(sample, label):\n",
    "    \n",
    "    # Ensure both are the same type\n",
    "    random_scale = tf.cast(tf.random.uniform([], 0.9, 1.1), dtype=sample.dtype)\n",
    "    sample = sample * random_scale  # Random scale between 0.9 and 1.1\n",
    "    \n",
    "    return sample, label"
   ]
  },
  {
   "cell_type": "code",
   "execution_count": null,
   "metadata": {},
   "outputs": [],
   "source": [
    "# Convert all data to TensorFlow datasets\n",
    "train_dataset = tf.data.Dataset.from_tensor_slices((data_train, y_train))\n",
    "val_dataset = tf.data.Dataset.from_tensor_slices((data_val, y_val))\n",
    "test_dataset = tf.data.Dataset.from_tensor_slices((data_test, y_test))\n",
    "\n",
    "# Configure datasets\n",
    "batch_size = 4\n",
    "\n",
    "train_dataset = train_dataset.shuffle(buffer_size=100).batch(batch_size).prefetch(tf.data.AUTOTUNE)\n",
    "val_dataset = val_dataset.batch(batch_size).prefetch(tf.data.AUTOTUNE)\n",
    "test_dataset = test_dataset.batch(batch_size).prefetch(tf.data.AUTOTUNE)"
   ]
  },
  {
   "cell_type": "code",
   "execution_count": null,
   "metadata": {},
   "outputs": [],
   "source": [
    "#tf.random.set_seed(1234)\n",
    "\n",
    "input_shape = (32, 32, 23, 1)\n",
    "\n",
    "model = models.Sequential([\n",
    "    \n",
    "    #1st Conv Layer\n",
    "    layers.Conv3D(32, kernel_size=(3, 3, 3), strides=(1, 1, 1), activation='relu',\n",
    "                  kernel_regularizer=regularizers.l2(0.01), input_shape=input_shape),\n",
    "    layers.AveragePooling3D(pool_size=(2, 2, 2)),\n",
    "  \n",
    "     \n",
    "    #2nd Conv Layer\n",
    "    layers.Conv3D(64, kernel_size=(3, 3, 3), strides=(1, 1, 1), activation='relu',\n",
    "                  kernel_regularizer=regularizers.l2(0.001)),\n",
    "\n",
    "    #3rd Conv Layer\n",
    "    layers.Conv3D(128, kernel_size=(3, 3, 3), strides=(1, 1, 1), activation='relu',\n",
    "                  kernel_regularizer=regularizers.l2(0.0001)),\n",
    "    layers.AveragePooling3D(pool_size=(2, 2, 2)),\n",
    "\n",
    "    layers.Flatten(),\n",
    "    \n",
    "    #1st FC layer\n",
    "    layers.Dense(128, activation='relu', kernel_regularizer=regularizers.l2(0.001)),\n",
    "    layers.Dropout(0.5),  # Dropout with a rate of 0.5\n",
    "\n",
    "    #2nd FC layer\n",
    "    layers.Dense(64, activation='relu', kernel_regularizer=regularizers.l2(0.0001)),\n",
    "    layers.Dense(3, activation='softmax')\n",
    "])\n",
    "\n",
    "model.summary()"
   ]
  },
  {
   "cell_type": "code",
   "execution_count": null,
   "metadata": {},
   "outputs": [],
   "source": [
    "model.compile(optimizer='adam', loss='sparse_categorical_crossentropy', metrics=['accuracy'])\n",
    "\n",
    "# Define the callbacks\n",
    "checkpoint_callback = tf.keras.callbacks.ModelCheckpoint(\n",
    "    filepath = '3DCNN_Avacado_PCA_model.h5',            # Path to save the best model\n",
    "    monitor = 'val_accuracy',                   # Metric to monitor\n",
    "    save_best_only = True,                 # Save only the best model\n",
    "    save_weights_only = False,             # Save the entire model (architecture + weights)\n",
    "    mode = 'max',                          # Mode 'max' because we want to maximize accuracy\n",
    "    verbose = 1\n",
    ")\n",
    "\n",
    "early_stopping_callback = tf.keras.callbacks.EarlyStopping(\n",
    "    monitor = 'loss',\n",
    "    patience = 15,\n",
    "    restore_best_weights = True\n",
    ")\n",
    "\n",
    "# Train the model with the callbacks\n",
    "history = model.fit(\n",
    "    train_dataset,\n",
    "    epochs = 100,\n",
    "    validation_data = val_dataset,\n",
    "    callbacks = [checkpoint_callback, early_stopping_callback]\n",
    ")"
   ]
  },
  {
   "cell_type": "code",
   "execution_count": null,
   "metadata": {},
   "outputs": [],
   "source": [
    "# Plot training & validation loss\n",
    "plt.figure(figsize=(12, 4))\n",
    "plt.subplot(1, 2, 1)\n",
    "plt.plot(history.history['loss'], label='Train Loss')\n",
    "plt.plot(history.history['val_loss'], label='Validation Loss')\n",
    "plt.title('Loss over Epochs')\n",
    "plt.xlabel('Epochs')\n",
    "plt.ylabel('Loss')\n",
    "plt.legend()\n",
    "\n",
    "# Plot training & validation accuracy\n",
    "plt.subplot(1, 2, 2)\n",
    "plt.plot(history.history['accuracy'], label='Train Accuracy')\n",
    "plt.plot(history.history['val_accuracy'], label='Validation Accuracy')\n",
    "plt.title('Accuracy over Epochs')\n",
    "plt.xlabel('Epochs')\n",
    "plt.ylabel('Accuracy')\n",
    "plt.legend()\n",
    "\n",
    "plt.show()"
   ]
  },
  {
   "cell_type": "code",
   "execution_count": null,
   "metadata": {},
   "outputs": [],
   "source": [
    "# Get true labels and predictions\n",
    "test_labels = np.concatenate([y for x, y in test_dataset], axis=0)\n",
    "predictions = np.argmax(model.predict(test_dataset), axis=-1)"
   ]
  },
  {
   "cell_type": "code",
   "execution_count": null,
   "metadata": {},
   "outputs": [],
   "source": [
    "# Classification report\n",
    "print(\"Classification Report:\")\n",
    "print(classification_report(test_labels, predictions))"
   ]
  },
  {
   "cell_type": "code",
   "execution_count": null,
   "metadata": {},
   "outputs": [],
   "source": [
    "# Confusion matrix\n",
    "conf_matrix = confusion_matrix(test_labels, predictions)\n",
    "\n",
    "plt.figure(figsize=(8, 6))\n",
    "sns.heatmap(conf_matrix, annot=True, fmt=\"d\", cmap=\"Blues\", xticklabels=[str(i) for i in range(2)], yticklabels=[str(i) for i in range(2)])\n",
    "\n",
    "plt.title(\"Confusion Matrix\")\n",
    "plt.xlabel(\"Predicted Label\")\n",
    "plt.ylabel(\"True Label\")\n",
    "\n",
    "plt.show()"
   ]
  }
 ],
 "metadata": {
  "kernelspec": {
   "display_name": "Python 3",
   "language": "python",
   "name": "python3"
  },
  "language_info": {
   "codemirror_mode": {
    "name": "ipython",
    "version": 3
   },
   "file_extension": ".py",
   "mimetype": "text/x-python",
   "name": "python",
   "nbconvert_exporter": "python",
   "pygments_lexer": "ipython3",
   "version": "3.10.0"
  }
 },
 "nbformat": 4,
 "nbformat_minor": 2
}
