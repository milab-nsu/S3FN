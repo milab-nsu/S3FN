{
 "cells": [
  {
   "cell_type": "code",
   "execution_count": null,
   "metadata": {},
   "outputs": [],
   "source": [
    "import os\n",
    "import numpy as np"
   ]
  },
  {
   "cell_type": "code",
   "execution_count": null,
   "metadata": {},
   "outputs": [],
   "source": [
    "# Path to the main directory containing subdirectories with labeled .npy files\n",
    "main_dir = '<path_to_directory>'  # Replace with your directory path'\n",
    "\n",
    "# Lists to store images and labels\n",
    "images = []\n",
    "labels = []\n",
    "\n",
    "# Loop through each subdirectory in the main directory\n",
    "for folder_name in os.listdir(main_dir):\n",
    "    \n",
    "    folder_path = os.path.join(main_dir, folder_name)\n",
    "    \n",
    "    # Check if the path is a directory\n",
    "    if os.path.isdir(folder_path):\n",
    "        \n",
    "        # Process each .npy file in the subdirectory\n",
    "        for file_name in os.listdir(folder_path):\n",
    "            \n",
    "            if file_name.endswith('.npy'):\n",
    "                \n",
    "                # Load the image\n",
    "                file_path = os.path.join(folder_path, file_name)\n",
    "                image = np.load(file_path)\n",
    "                \n",
    "                # Append the image and label\n",
    "                images.append(image)\n",
    "                labels.append(folder_name)  # Folder name as the label\n",
    "\n",
    "\n",
    "# Convert lists to numpy arrays\n",
    "images_array = np.array(images)\n",
    "labels_array = np.array(labels)\n",
    "\n",
    "# Save the combined images and labels as .npy files\n",
    "np.save('Kiwi_Ripeness_NIR_test.npy', images_array)\n",
    "np.save('Kiwi_Ripeness_NIR_test_labels.npy', labels_array)\n",
    "\n",
    "print(\"Files saved successfully!\")"
   ]
  },
  {
   "cell_type": "code",
   "execution_count": null,
   "metadata": {},
   "outputs": [],
   "source": [
    "dataset = np.load('Kiwi_Ripeness_NIR_test.npy')\n",
    "labels = np.load('Kiwi_Ripeness_NIR_test_labels.npy')\n",
    "\n",
    "dataset.shape, labels.shape"
   ]
  },
  {
   "cell_type": "code",
   "execution_count": null,
   "metadata": {},
   "outputs": [],
   "source": [
    "print(labels)"
   ]
  }
 ],
 "metadata": {
  "kernelspec": {
   "display_name": "Python 3",
   "language": "python",
   "name": "python3"
  },
  "language_info": {
   "codemirror_mode": {
    "name": "ipython",
    "version": 3
   },
   "file_extension": ".py",
   "mimetype": "text/x-python",
   "name": "python",
   "nbconvert_exporter": "python",
   "pygments_lexer": "ipython3",
   "version": "3.10.0"
  }
 },
 "nbformat": 4,
 "nbformat_minor": 2
}
