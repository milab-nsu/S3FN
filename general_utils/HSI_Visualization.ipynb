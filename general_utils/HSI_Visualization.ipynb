{
 "cells": [
  {
   "cell_type": "code",
   "execution_count": null,
   "id": "4_FGiW6tfXrK",
   "metadata": {
    "colab": {
     "base_uri": "https://localhost:8080/"
    },
    "id": "4_FGiW6tfXrK",
    "outputId": "b7b58eb0-bdaa-4dd8-fd5f-65e73ec90a79"
   },
   "outputs": [],
   "source": [
    "import matplotlib.pyplot as plt\n",
    "import rasterio\n",
    "import spectral\n",
    "import numpy as np"
   ]
  },
  {
   "cell_type": "code",
   "execution_count": null,
   "id": "k7UAA5h1WdSw",
   "metadata": {
    "colab": {
     "base_uri": "https://localhost:8080/",
     "height": 451
    },
    "id": "k7UAA5h1WdSw",
    "outputId": "f55293cd-8b90-4f01-b221-4765ba9163a2"
   },
   "outputs": [],
   "source": [
    "# Load an image\n",
    "img_src = '<path_to_file>'"
   ]
  },
  {
   "cell_type": "code",
   "execution_count": null,
   "id": "557bd890",
   "metadata": {},
   "outputs": [],
   "source": [
    "#Showing metadata of image\n",
    "with rasterio.open(img_src) as src:\n",
    "\n",
    "    print(src.meta)\n",
    "    print(src.tags())\n",
    "    \n",
    "    print(f\"Number of bands: {src.count}\")"
   ]
  },
  {
   "cell_type": "code",
   "execution_count": null,
   "id": "895bebed",
   "metadata": {},
   "outputs": [],
   "source": [
    "#Visualizing different bands in RGB\n",
    "\n",
    "with rasterio.open(img_src) as src:\n",
    "    \n",
    "    band1 = src.read(50)  # band no.\n",
    "\n",
    "plt.imshow(band1, cmap='viridis')\n",
    "plt.show()"
   ]
  },
  {
   "cell_type": "code",
   "execution_count": null,
   "id": "10ace797",
   "metadata": {},
   "outputs": [],
   "source": [
    "# Open the .bil file\n",
    "with rasterio.open(img_src) as dataset:\n",
    "    \n",
    "    # Read all bands into a 3D NumPy array (bands, rows, cols)\n",
    "    data = dataset.read()  # Reads all bands\n",
    "\n",
    "\n",
    "# Now 'data' is a 3D NumPy array: (bands, rows, cols)\n",
    "print(f\"Shape of the data (bands, rows, cols): {data.shape}\\n\")\n",
    "\n",
    "# Example: To access the first band\n",
    "first_band = data[1]\n",
    "print(first_band)"
   ]
  },
  {
   "cell_type": "markdown",
   "id": "d885135c",
   "metadata": {},
   "source": [
    "#Butterfly Visualization"
   ]
  },
  {
   "cell_type": "code",
   "execution_count": null,
   "id": "49b8c193",
   "metadata": {},
   "outputs": [],
   "source": [
    "# Load hyperspectral data\n",
    "dat_file = '<path_to_file>'\n",
    "hdr_file = '<path_to_file>'\n",
    "\n",
    "cube = spectral.open_image(hdr_file)\n",
    "\n",
    "print(cube.shape)"
   ]
  },
  {
   "cell_type": "code",
   "execution_count": null,
   "id": "7d13829f",
   "metadata": {},
   "outputs": [],
   "source": [
    "# Show an RGB composite (using 3 bands)\n",
    "rgb = spectral.get_rgb(cube, [30, 20, 10])  # Choose bands for R, G, B\n",
    "plt.imshow(rgb)\n",
    "plt.title(\"RGB Composite of Hyperspectral Datacube\")\n",
    "plt.show()\n",
    "\n",
    "# Visualize individual bands\n",
    "plt.imshow(cube[:, :, 50], cmap='gray')  # Visualize 50th band\n",
    "plt.title(\"50th Band of Hyperspectral Datacube\")\n",
    "#plt.colorbar()\n",
    "plt.show()"
   ]
  },
  {
   "cell_type": "code",
   "execution_count": null,
   "id": "2aa0ef65",
   "metadata": {},
   "outputs": [],
   "source": [
    "# Load mask\n",
    "mask_file = '<path_to_file>'\n",
    "mask = np.load(mask_file)\n",
    "\n",
    "# Visualize mask\n",
    "plt.imshow(mask, cmap='gray')\n",
    "plt.title(\"Mask\")\n",
    "plt.colorbar()\n",
    "plt.show()"
   ]
  }
 ],
 "metadata": {
  "colab": {
   "provenance": []
  },
  "kernelspec": {
   "display_name": "Python 3",
   "language": "python",
   "name": "python3"
  },
  "language_info": {
   "codemirror_mode": {
    "name": "ipython",
    "version": 3
   },
   "file_extension": ".py",
   "mimetype": "text/x-python",
   "name": "python",
   "nbconvert_exporter": "python",
   "pygments_lexer": "ipython3",
   "version": "3.10.0"
  }
 },
 "nbformat": 4,
 "nbformat_minor": 5
}
